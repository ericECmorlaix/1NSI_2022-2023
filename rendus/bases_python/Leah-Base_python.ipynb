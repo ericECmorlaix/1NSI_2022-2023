{
 "cells": [
  {
   "cell_type": "code",
   "execution_count": 3,
   "metadata": {},
   "outputs": [
    {
     "data": {
      "text/plain": [
       "'hello world'"
      ]
     },
     "execution_count": 3,
     "metadata": {},
     "output_type": "execute_result"
    }
   ],
   "source": [
    "'hello world'\n"
   ]
  },
  {
   "cell_type": "code",
   "execution_count": 11,
   "metadata": {},
   "outputs": [
    {
     "data": {
      "text/plain": [
       "'Hello world'"
      ]
     },
     "execution_count": 11,
     "metadata": {},
     "output_type": "execute_result"
    }
   ],
   "source": [
    "'hello ' + 'world'\n",
    "'hello' + 'world' \n",
    "'Hello' + ' ' + 'world' "
   ]
  },
  {
   "cell_type": "code",
   "execution_count": 12,
   "metadata": {},
   "outputs": [
    {
     "data": {
      "text/plain": [
       "'Hello'"
      ]
     },
     "execution_count": 12,
     "metadata": {},
     "output_type": "execute_result"
    }
   ],
   "source": [
    "'Hello'"
   ]
  },
  {
   "cell_type": "code",
   "execution_count": 13,
   "metadata": {},
   "outputs": [
    {
     "data": {
      "text/plain": [
       "'Hello'"
      ]
     },
     "execution_count": 13,
     "metadata": {},
     "output_type": "execute_result"
    }
   ],
   "source": [
    "mot = 'Hello'\n",
    "mot"
   ]
  },
  {
   "cell_type": "code",
   "execution_count": 15,
   "metadata": {},
   "outputs": [
    {
     "data": {
      "text/plain": [
       "'Goodbye'"
      ]
     },
     "execution_count": 15,
     "metadata": {},
     "output_type": "execute_result"
    }
   ],
   "source": [
    "\"Goodbye\""
   ]
  },
  {
   "cell_type": "code",
   "execution_count": 19,
   "metadata": {},
   "outputs": [
    {
     "name": "stdout",
     "output_type": "stream",
     "text": [
      "Goodbye\n"
     ]
    }
   ],
   "source": [
    "mot = 'Goodbye'\n",
    "print(mot)\n"
   ]
  },
  {
   "cell_type": "code",
   "execution_count": 20,
   "metadata": {},
   "outputs": [
    {
     "name": "stdout",
     "output_type": "stream",
     "text": [
      "W\n",
      "o\n",
      "r\n",
      "l\n",
      "d\n"
     ]
    }
   ],
   "source": [
    "nom = 'World'\n",
    "\n",
    "caractere = 'W'\n",
    "print(caractere)\n",
    "\n",
    "caractere = 'o'\n",
    "print(caractere)\n",
    "\n",
    "caractere = 'r'\n",
    "print(caractere)\n",
    "\n",
    "caractere = 'l'\n",
    "print(caractere)\n",
    "\n",
    "caractere = 'd'\n",
    "print(caractere)"
   ]
  },
  {
   "cell_type": "code",
   "execution_count": 21,
   "metadata": {},
   "outputs": [
    {
     "name": "stdout",
     "output_type": "stream",
     "text": [
      "Hello\n",
      "Hello!\n"
     ]
    }
   ],
   "source": [
    "hello = 'Hello'\n",
    "print(hello)\n",
    "hello = hello + '!'\n",
    "print(hello)"
   ]
  },
  {
   "cell_type": "code",
   "execution_count": 22,
   "metadata": {},
   "outputs": [
    {
     "name": "stdout",
     "output_type": "stream",
     "text": [
      "W\n",
      "---\n",
      "o\n",
      "---\n",
      "r\n",
      "---\n",
      "l\n",
      "---\n",
      "d\n",
      "---\n"
     ]
    }
   ],
   "source": [
    "nom = 'World'\n",
    "\n",
    "for caractere in nom:\n",
    "    print(caractere)\n",
    "    print('---')"
   ]
  },
  {
   "cell_type": "code",
   "execution_count": 23,
   "metadata": {},
   "outputs": [
    {
     "name": "stdout",
     "output_type": "stream",
     "text": [
      "-W\n",
      "-Wo\n",
      "-Wor\n",
      "-Worl\n",
      "-World\n"
     ]
    }
   ],
   "source": [
    "nom = 'World'\n",
    "ligne = '-'\n",
    "for caractere in nom:\n",
    "    ligne = ligne + caractere\n",
    "    print(ligne)"
   ]
  },
  {
   "cell_type": "code",
   "execution_count": 24,
   "metadata": {},
   "outputs": [
    {
     "name": "stdout",
     "output_type": "stream",
     "text": [
      "W\n",
      "Wo\n",
      "Wor\n",
      "Worl\n",
      "World\n"
     ]
    }
   ],
   "source": [
    "nom = 'World'\n",
    "ligne = ''\n",
    "for caractere in nom:\n",
    "    ligne = ligne + caractere\n",
    "    print(ligne)"
   ]
  },
  {
   "cell_type": "code",
   "execution_count": 25,
   "metadata": {},
   "outputs": [
    {
     "name": "stdout",
     "output_type": "stream",
     "text": [
      "W\n",
      "oW\n",
      "roW\n",
      "lroW\n",
      "dlroW\n"
     ]
    }
   ],
   "source": [
    "ligne = ''\n",
    "for caractere in nom:\n",
    "    ligne = caractere + ligne\n",
    "    print(ligne)"
   ]
  },
  {
   "cell_type": "code",
   "execution_count": 26,
   "metadata": {},
   "outputs": [
    {
     "name": "stdout",
     "output_type": "stream",
     "text": [
      "W \n",
      "W o \n",
      "W o r \n",
      "W o r l \n",
      "W o r l d \n"
     ]
    }
   ],
   "source": [
    "ligne = ''\n",
    "for caractere in nom:\n",
    "    ligne = ligne + caractere + ' '\n",
    "    print(ligne)"
   ]
  },
  {
   "cell_type": "code",
   "execution_count": 27,
   "metadata": {},
   "outputs": [
    {
     "name": "stdout",
     "output_type": "stream",
     "text": [
      "+-----+\n",
      "|World|\n",
      "+-----+\n"
     ]
    }
   ],
   "source": [
    "nom = 'World'\n",
    "ligne = ''\n",
    "for _ in nom:\n",
    "    ligne += '-'\n",
    "ligne= '+' + ligne + '+'\n",
    "print(ligne)\n",
    "print('|' + nom + '|')\n",
    "print(ligne)"
   ]
  },
  {
   "cell_type": "code",
   "execution_count": 28,
   "metadata": {},
   "outputs": [
    {
     "name": "stdout",
     "output_type": "stream",
     "text": [
      "+World+\n",
      "W     W\n",
      "o     o\n",
      "r     r\n",
      "l     l\n",
      "d     d\n",
      "+World+\n"
     ]
    }
   ],
   "source": [
    "nom = 'World' \n",
    "ligne = '+' + nom + '+'\n",
    "espaces = ''\n",
    "for _ in nom:\n",
    "    espaces += ' '\n",
    "    \n",
    "print(ligne)\n",
    "for caractere in nom:\n",
    "    print(caractere + espaces + caractere)\n",
    "print(ligne)"
   ]
  },
  {
   "cell_type": "code",
   "execution_count": 29,
   "metadata": {},
   "outputs": [
    {
     "name": "stdout",
     "output_type": "stream",
     "text": [
      "True\n",
      "False\n"
     ]
    }
   ],
   "source": [
    "condition = True\n",
    "print(condition)\n",
    "condition = False\n",
    "print(condition)"
   ]
  },
  {
   "cell_type": "code",
   "execution_count": 30,
   "metadata": {},
   "outputs": [
    {
     "name": "stdout",
     "output_type": "stream",
     "text": [
      "Hello World!\n"
     ]
    }
   ],
   "source": [
    "phrase = 'Hello World'\n",
    "ravi = True\n",
    "if ravi:\n",
    "    phrase += '!'\n",
    "print(phrase)"
   ]
  },
  {
   "cell_type": "code",
   "execution_count": 1,
   "metadata": {},
   "outputs": [
    {
     "name": "stdout",
     "output_type": "stream",
     "text": [
      "Hello bob\n"
     ]
    }
   ],
   "source": [
    "nom = 'bob'\n",
    "phrase = 'Hello ' + nom\n",
    "print(phrase)"
   ]
  },
  {
   "cell_type": "code",
   "execution_count": 2,
   "metadata": {},
   "outputs": [
    {
     "name": "stdout",
     "output_type": "stream",
     "text": [
      "Hello World!\n"
     ]
    }
   ],
   "source": [
    "phrase = 'Hello World'\n",
    "ravi = True\n",
    "confus = False\n",
    "if ravi:\n",
    "    phrase += '!'\n",
    "if confus:\n",
    "    phrase += '?'\n",
    "print(phrase)\n",
    "\n"
   ]
  },
  {
   "cell_type": "code",
   "execution_count": 6,
   "metadata": {},
   "outputs": [
    {
     "name": "stdout",
     "output_type": "stream",
     "text": [
      "Hello World\n"
     ]
    }
   ],
   "source": [
    "phrase = 'Hello World'\n",
    "inclus = True\n",
    "nouvelle_phrase = ''\n",
    "for caractere in phrase:\n",
    "    if inclus:\n",
    "        nouvelle_phrase += caractere\n",
    "inclus = False\n",
    "print (nouvelle_phrase)"
   ]
  },
  {
   "cell_type": "code",
   "execution_count": 7,
   "metadata": {},
   "outputs": [
    {
     "name": "stdout",
     "output_type": "stream",
     "text": [
      "H!e!l!l!o! !W!o!r!l!d!\n"
     ]
    }
   ],
   "source": [
    "phrase = 'Hello World'\n",
    "ravi = True\n",
    "nouvelle_phrase = ''\n",
    "for caractere in phrase:\n",
    "    nouvelle_phrase += caractere\n",
    "    if ravi:\n",
    "        nouvelle_phrase += '!'\n",
    "phrase = nouvelle_phrase\n",
    "print(phrase)"
   ]
  },
  {
   "cell_type": "code",
   "execution_count": 8,
   "metadata": {},
   "outputs": [
    {
     "name": "stdout",
     "output_type": "stream",
     "text": [
      "Hello World.\n"
     ]
    }
   ],
   "source": [
    "phrase = 'Hello World'\n",
    "ravi = False\n",
    "if ravi:\n",
    "    caractere = '!'\n",
    "else:\n",
    "    caractere = '.'\n",
    "phrase += caractere\n",
    "print (phrase)"
   ]
  }
 ],
 "metadata": {
  "kernelspec": {
   "display_name": "Python 3.8.13 64-bit ('shims')",
   "language": "python",
   "name": "python3"
  },
  "language_info": {
   "codemirror_mode": {
    "name": "ipython",
    "version": 3
   },
   "file_extension": ".py",
   "mimetype": "text/x-python",
   "name": "python",
   "nbconvert_exporter": "python",
   "pygments_lexer": "ipython3",
   "version": "3.8.13"
  },
  "orig_nbformat": 4,
  "vscode": {
   "interpreter": {
    "hash": "9ac03a0a6051494cc606d484d27d20fce22fb7b4d169f583271e11d5ba46a56e"
   }
  }
 },
 "nbformat": 4,
 "nbformat_minor": 2
}
