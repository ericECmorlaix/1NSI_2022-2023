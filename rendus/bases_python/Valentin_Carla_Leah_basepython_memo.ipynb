{
 "cells": [
  {
   "cell_type": "markdown",
   "metadata": {},
   "source": [
    "# Python ! \n",
    "## Simplicité, polyvalence et communauté \n",
    "\n"
   ]
  },
  {
   "cell_type": "markdown",
   "metadata": {},
   "source": [
    "##### Ce document a également pour but d'être utilisé pour flex et pour la scéance du mardi 20 Septembre 2022, donc du vocabulaire familier (mais pas grossier) est régulièrement employé. Cepandant le vocabulaire spécifique au cours est respecté."
   ]
  },
  {
   "cell_type": "markdown",
   "metadata": {},
   "source": [
    "### Python est un langage de programmation qui présente de nombreux avantages : il est simple à utiliser (comparé à d'autres langages), il est polyvalent (automatisations, sites et logiciels, analyses et visualisations de données) et il a un aspect communautaire très pratique (forums, formation, aides)."
   ]
  },
  {
   "cell_type": "markdown",
   "metadata": {},
   "source": [
    "### Ce document a été écrit avec pour sources les documents du proffesseur."
   ]
  },
  {
   "cell_type": "markdown",
   "metadata": {},
   "source": [
    "[FutureCoder](https://fr.futurecoder.io/course/#toc)\n",
    "\n",
    "[Le Site du Prof (1NSI_2022_2023)](https://ericecmorlaix.github.io/1NSI_2022-2023/)"
   ]
  },
  {
   "cell_type": "markdown",
   "metadata": {},
   "source": [
    "### Pour vendre un peu, voici quelques exemples connus qui ont vu le jour grâce à Python."
   ]
  },
  {
   "cell_type": "markdown",
   "metadata": {},
   "source": [
    "- Blender (logiciel de modélisation, d'animation et de rendu 3D)\n",
    "- 3/4 des bots sur les résaux sociaux (les bots qui sont ouvertement des bots, pas les escrocs)\n",
    "- Les IA dont on parle tout le temps (mais c'est v'là compliqué là par contre)\n",
    "\n"
   ]
  },
  {
   "cell_type": "markdown",
   "metadata": {},
   "source": [
    "## Sommaire "
   ]
  },
  {
   "cell_type": "markdown",
   "metadata": {},
   "source": [
    "- La console\n",
    "- Les bases sur les chaînes\n",
    "- Variables\n",
    "- Boucles `for`\n",
    "- Structures conditionnelles `if`"
   ]
  },
  {
   "cell_type": "markdown",
   "metadata": {},
   "source": [
    "## La console"
   ]
  },
  {
   "cell_type": "markdown",
   "metadata": {},
   "source": [
    "### La console, un essentiel de la programmation, est la \"zone de test et d'usage\". Elle sert à verifier si le code marche ou pas."
   ]
  },
  {
   "cell_type": "markdown",
   "metadata": {},
   "source": [
    "[Présentation de la console](https://fr.futurecoder.io/course/#IntroducingTheShell)"
   ]
  },
  {
   "cell_type": "markdown",
   "metadata": {},
   "source": [
    "#### Dans le cas présent, on l'a simplement utilisé pour voir si elle était fonctionnelle."
   ]
  },
  {
   "cell_type": "markdown",
   "metadata": {},
   "source": [
    "[Navigation dans l'historique de la console](https://fr.futurecoder.io/course/#NavigatingShellHistory)"
   ]
  },
  {
   "cell_type": "markdown",
   "metadata": {},
   "source": [
    "#### Il est bon d'avoir une \"archive\" des erreurs et des résultats."
   ]
  },
  {
   "cell_type": "markdown",
   "metadata": {},
   "source": [
    "## Les bases sur les chaînes"
   ]
  },
  {
   "cell_type": "markdown",
   "metadata": {},
   "source": [
    "#### Les chaînes de caractères sont omniprésentes. Quand on tape une zone de texte sur LibreOffice, par exemple, c'est une chaîne de caractères."
   ]
  },
  {
   "cell_type": "code",
   "execution_count": 4,
   "metadata": {},
   "outputs": [
    {
     "name": "stdout",
     "output_type": "stream",
     "text": [
      "Hello, world\n"
     ]
    }
   ],
   "source": [
    "print('Hello, world')"
   ]
  },
  {
   "cell_type": "markdown",
   "metadata": {},
   "source": [
    "Dans quasiment tous les languages, une chaîne de caractères s'écrit avec des guillemets. C'est pas clair alors j'ai mis un exemple au dessus (\"print\" sert simplement à afficher la chaîne de caractère dans la console, c'est pas essentiel pour le moment mais ça la sera plus tard)."
   ]
  },
  {
   "cell_type": "markdown",
   "metadata": {},
   "source": [
    "[Introduction aux chaînes de caractères](https://fr.futurecoder.io/course/#IntroducingStrings)"
   ]
  },
  {
   "cell_type": "markdown",
   "metadata": {},
   "source": [
    "Je vais maintenant remplacer \"chaîne de caractères\" par \"string\", parce que c'est long d'écrire trois mots quand il y en a un qui veut dire la même chose."
   ]
  },
  {
   "cell_type": "markdown",
   "metadata": {},
   "source": [
    "Pourquoi \"string\" ? Le mot \"string\" désigne un type de variables (tu comprendras plus tard) qui contient un chaîne de caractères."
   ]
  },
  {
   "cell_type": "markdown",
   "metadata": {},
   "source": [
    "### La concaténation des strings"
   ]
  },
  {
   "cell_type": "markdown",
   "metadata": {},
   "source": [
    "La concaténation est un mot v'là compliqué pour désigner un truc v'là simple. C'est quand on \"associe\", qu'on \"mixe\" plusieurs valeurs ensembles."
   ]
  },
  {
   "cell_type": "code",
   "execution_count": 5,
   "metadata": {},
   "outputs": [
    {
     "name": "stdout",
     "output_type": "stream",
     "text": [
      "Helloworld\n"
     ]
    }
   ],
   "source": [
    "print('Hello' + 'world')"
   ]
  },
  {
   "cell_type": "markdown",
   "metadata": {},
   "source": [
    "#### Ou est le problème ? "
   ]
  },
  {
   "cell_type": "markdown",
   "metadata": {},
   "source": [
    "##### Les guillemets contiennent la string et pas autre chose. Python est utile mais, vu que c'est un programme et qu'il n'a ni cerveau ni âme, il ne va pas rajouter l'espace automatiquement."
   ]
  },
  {
   "cell_type": "code",
   "execution_count": 6,
   "metadata": {},
   "outputs": [
    {
     "name": "stdout",
     "output_type": "stream",
     "text": [
      "Hello world\n",
      "Hello world\n",
      "Hello world\n"
     ]
    }
   ],
   "source": [
    "print('Hello ' + 'world')\n",
    "print('Hello' + ' world')\n",
    "print('Hello' + ' ' + 'world')"
   ]
  },
  {
   "cell_type": "markdown",
   "metadata": {},
   "source": [
    "##### Les trois manières d'écrire Hello world ci-dessus se valent. J'ai rajouté l'espace moi-même. CEPANDANT, si je peux recommander un manière de faire, je mettrai l'espace après le premier mot."
   ]
  },
  {
   "cell_type": "code",
   "execution_count": 7,
   "metadata": {},
   "outputs": [
    {
     "name": "stdout",
     "output_type": "stream",
     "text": [
      "Hello world\n"
     ]
    }
   ],
   "source": [
    "print('Hello ' + 'world')"
   ]
  },
  {
   "cell_type": "markdown",
   "metadata": {},
   "source": [
    "[La concaténation des chaînes](https://fr.futurecoder.io/course/#AddingStrings)"
   ]
  },
  {
   "cell_type": "markdown",
   "metadata": {},
   "source": [
    "### Les variables"
   ]
  },
  {
   "cell_type": "markdown",
   "metadata": {},
   "source": [
    "#### Les variables sont des des données qui peuvent changer (d'ou le nom variable). Je vais baser pour le moment mes exemple avec des strings."
   ]
  },
  {
   "cell_type": "code",
   "execution_count": 9,
   "metadata": {},
   "outputs": [
    {
     "name": "stdout",
     "output_type": "stream",
     "text": [
      "Hello world\n"
     ]
    }
   ],
   "source": [
    "mot = 'Hello world'\n",
    "print(mot)"
   ]
  },
  {
   "cell_type": "markdown",
   "metadata": {},
   "source": [
    "En Python, la syntaxe des variables se fait avec le nom de la variable, un signe égale et la donnée de la variable."
   ]
  },
  {
   "cell_type": "code",
   "execution_count": 11,
   "metadata": {},
   "outputs": [
    {
     "name": "stdout",
     "output_type": "stream",
     "text": [
      "François-Hubert Grandmaison\n"
     ]
    }
   ],
   "source": [
    "variable_nom = 'François-Hubert Grandmaison'\n",
    "print(variable_nom)"
   ]
  },
  {
   "cell_type": "markdown",
   "metadata": {},
   "source": [
    "##### Print"
   ]
  },
  {
   "cell_type": "markdown",
   "metadata": {},
   "source": [
    "##### Print sert à afficher le résultat d'un scipt dans la console."
   ]
  },
  {
   "cell_type": "code",
   "execution_count": 12,
   "metadata": {},
   "outputs": [
    {
     "name": "stdout",
     "output_type": "stream",
     "text": [
      "Paul Ubertaud\n"
     ]
    }
   ],
   "source": [
    "prenom = 'Paul '\n",
    "nom = 'Ubertaud'\n",
    "print(prenom + nom)"
   ]
  },
  {
   "cell_type": "markdown",
   "metadata": {},
   "source": [
    "#### La syntaxe des print se fait avec print puis ce qu'on veut afficher entre parenthèses."
   ]
  },
  {
   "cell_type": "markdown",
   "metadata": {},
   "source": [
    "[Écriture de scripts](https://fr.futurecoder.io/course/#WritingPrograms)"
   ]
  },
  {
   "cell_type": "markdown",
   "metadata": {},
   "source": [
    "#### Stockage de résultats avec des variables"
   ]
  },
  {
   "cell_type": "markdown",
   "metadata": {},
   "source": [
    "#### Un truc particulièrement utile. On peut concaténer des valeurs dans un print."
   ]
  },
  {
   "cell_type": "code",
   "execution_count": 14,
   "metadata": {},
   "outputs": [
    {
     "name": "stdout",
     "output_type": "stream",
     "text": [
      "Je déguste des ballons de basket.\n"
     ]
    }
   ],
   "source": [
    "sujet = 'Je '\n",
    "verbe = 'déguste '\n",
    "complement = 'des ballons de basket.'\n",
    "\n",
    "print(sujet + verbe + complement)"
   ]
  },
  {
   "cell_type": "markdown",
   "metadata": {},
   "source": [
    "### Présentation des boucles 'for'"
   ]
  },
  {
   "cell_type": "markdown",
   "metadata": {},
   "source": [
    "#### Les boucles for servent à repeter plusieurs fois un même action. "
   ]
  },
  {
   "cell_type": "code",
   "execution_count": 2,
   "metadata": {},
   "outputs": [
    {
     "name": "stdout",
     "output_type": "stream",
     "text": [
      "A\n",
      "r\n",
      "t\n",
      "h\n",
      "u\n",
      "r\n"
     ]
    }
   ],
   "source": [
    "nom = 'Arthur'\n",
    "\n",
    "for caractere in nom : print(caractere)"
   ]
  },
  {
   "cell_type": "markdown",
   "metadata": {},
   "source": [
    "##### Les boucles for fonctionnent de cette manière : for (chaque fois qu'il y a une valeur) in (dans une variable) : (fait quelque chose)"
   ]
  },
  {
   "cell_type": "markdown",
   "metadata": {},
   "source": [
    "#### Cepandant, la syntaxe sur une seule ligne est assez bazardeuse. Il y a des manières d'optimiser sa syntaxe des boucles."
   ]
  },
  {
   "cell_type": "code",
   "execution_count": 1,
   "metadata": {},
   "outputs": [
    {
     "name": "stdout",
     "output_type": "stream",
     "text": [
      "H\n",
      "e\n",
      "l\n",
      "l\n",
      "o\n"
     ]
    }
   ],
   "source": [
    "mot = 'Hello'\n",
    "\n",
    "\n",
    "for caractere in mot :\n",
    "    print(caractere)"
   ]
  },
  {
   "cell_type": "markdown",
   "metadata": {},
   "source": [
    "#### Les actions peuvent se concaténer. Tant que la boucle est active, tout ce qui suit est appelé."
   ]
  },
  {
   "cell_type": "code",
   "execution_count": 3,
   "metadata": {},
   "outputs": [
    {
     "name": "stdout",
     "output_type": "stream",
     "text": [
      "H\n",
      "---\n",
      "e\n",
      "---\n",
      "l\n",
      "---\n",
      "l\n",
      "---\n",
      "o\n",
      "---\n"
     ]
    }
   ],
   "source": [
    "mot = 'Hello'\n",
    "\n",
    "for caractere in mot :\n",
    "    print(caractere)\n",
    "    print('---')"
   ]
  },
  {
   "cell_type": "code",
   "execution_count": 4,
   "metadata": {},
   "outputs": [
    {
     "name": "stdout",
     "output_type": "stream",
     "text": [
      "H\n",
      "e\n",
      "l\n",
      "l\n",
      "o\n",
      "---\n"
     ]
    }
   ],
   "source": [
    "mot = 'Hello'\n",
    "\n",
    "for caractere in mot :\n",
    "    print(caractere)\n",
    "print('---')"
   ]
  },
  {
   "cell_type": "code",
   "execution_count": 6,
   "metadata": {},
   "outputs": [
    {
     "name": "stdout",
     "output_type": "stream",
     "text": [
      "---W\n",
      "---o\n",
      "---r\n",
      "---l\n",
      "---d\n"
     ]
    }
   ],
   "source": [
    "nom = 'World'\n",
    "\n",
    "for caractere in nom:\n",
    "    print('---' + caractere)\n",
    "    "
   ]
  },
  {
   "cell_type": "markdown",
   "metadata": {},
   "source": [
    "<!-- #### Voici une illustration pour éclaircir le fonctionnement.\n",
    "\n",
    "![methode de fonctionnement de la concaténation](./images/forloop1.png) -->"
   ]
  },
  {
   "cell_type": "markdown",
   "metadata": {},
   "source": [
    "##### Dans le cas présent, le contenu de la boucle a été concatené avec les tirets."
   ]
  },
  {
   "cell_type": "markdown",
   "metadata": {},
   "source": [
    "#### Vocabulaire"
   ]
  },
  {
   "cell_type": "markdown",
   "metadata": {},
   "source": [
    "##### Le vocabulaire est important à utiliser dans le cas d'un travail en équipe."
   ]
  },
  {
   "cell_type": "markdown",
   "metadata": {},
   "source": [
    "##### Une expression : morceau de code qui peut avoir une valeur et s'evaluer."
   ]
  },
  {
   "cell_type": "code",
   "execution_count": 30,
   "metadata": {},
   "outputs": [],
   "source": [
    "nom = 'Claude'"
   ]
  },
  {
   "cell_type": "markdown",
   "metadata": {},
   "source": [
    "##### Dans le cas présent il y a deux expressions : \"nom =\" pour définir la valeur de nom et \"Claude\" qui est la valeur qu'on assigne à la variable nom."
   ]
  },
  {
   "cell_type": "markdown",
   "metadata": {},
   "source": [
    "##### Une instruction : composée de plusieurs expressions, elle sert à indiquer au programme ce qu'elle doit faire. \"nom = 'Claude'\" est un instruction."
   ]
  },
  {
   "cell_type": "markdown",
   "metadata": {},
   "source": [
    "##### Une affectation : partie qui définit la valeur de la variable. (\"Claude\" est l'affectation de nom)."
   ]
  },
  {
   "cell_type": "markdown",
   "metadata": {},
   "source": [
    "[Exercices sur les boucles for](https://fr.futurecoder.io/course/#BasicForLoopExercises)"
   ]
  },
  {
   "cell_type": "code",
   "execution_count": 7,
   "metadata": {},
   "outputs": [
    {
     "name": "stdout",
     "output_type": "stream",
     "text": [
      "World\n",
      "World\n",
      "World\n",
      "World\n",
      "World\n"
     ]
    }
   ],
   "source": [
    "nom = 'World'\n",
    "\n",
    "for caractere in nom:\n",
    "    print(nom)"
   ]
  },
  {
   "cell_type": "code",
   "execution_count": 8,
   "metadata": {},
   "outputs": [
    {
     "name": "stdout",
     "output_type": "stream",
     "text": [
      "-W\n",
      "-Wo\n",
      "-Wor\n",
      "-Worl\n",
      "-World\n"
     ]
    }
   ],
   "source": [
    "nom = 'World'\n",
    "ligne = '-'\n",
    "for caractere in nom:\n",
    "    ligne = ligne + caractere\n",
    "    print(ligne)"
   ]
  },
  {
   "cell_type": "code",
   "execution_count": 9,
   "metadata": {},
   "outputs": [
    {
     "name": "stdout",
     "output_type": "stream",
     "text": [
      "-\n",
      "-W\n",
      "-Wo\n",
      "-Wor\n",
      "-Worl\n"
     ]
    }
   ],
   "source": [
    "nom = 'World'\n",
    "ligne = '-'\n",
    "for caractere in nom:\n",
    "    print(ligne)\n",
    "    ligne = ligne + caractere"
   ]
  },
  {
   "cell_type": "code",
   "execution_count": 12,
   "metadata": {},
   "outputs": [
    {
     "name": "stdout",
     "output_type": "stream",
     "text": [
      "+-----+\n",
      "|World|\n",
      "+-----+\n"
     ]
    }
   ],
   "source": [
    "nom = 'World'\n",
    "ligne = ''\n",
    "for _ in nom:\n",
    "    ligne += '-'\n",
    "ligne= '+' + ligne + '+'\n",
    "print(ligne)\n",
    "print('|' + nom + '|')\n",
    "print(ligne)"
   ]
  },
  {
   "cell_type": "code",
   "execution_count": 13,
   "metadata": {},
   "outputs": [
    {
     "name": "stdout",
     "output_type": "stream",
     "text": [
      "+World+\n",
      "W     W\n",
      "o     o\n",
      "r     r\n",
      "l     l\n",
      "d     d\n",
      "+World+\n"
     ]
    }
   ],
   "source": [
    "nom = 'World' \n",
    "ligne = '+' + nom + '+'\n",
    "espaces = ''\n",
    "for _ in nom:\n",
    "    espaces += ' '\n",
    "    \n",
    "print(ligne)\n",
    "for caractere in nom:\n",
    "    print(caractere + espaces + caractere)\n",
    "print(ligne)"
   ]
  },
  {
   "cell_type": "code",
   "execution_count": 11,
   "metadata": {},
   "outputs": [
    {
     "name": "stdout",
     "output_type": "stream",
     "text": [
      "W\n",
      " o\n",
      "  r\n",
      "   l\n",
      "    d\n"
     ]
    }
   ],
   "source": [
    "nom = 'World'\n",
    "espace = ''\n",
    "\n",
    "for caractere in nom:\n",
    "    print(espace + caractere)\n",
    "    espace += ' '"
   ]
  },
  {
   "cell_type": "markdown",
   "metadata": {},
   "source": [
    "### Les conditions 'if'"
   ]
  },
  {
   "cell_type": "markdown",
   "metadata": {},
   "source": [
    "##### Les conditions 'if' permettent d'indiquer à Python quelle \"voie\" prendre selon les conditions."
   ]
  },
  {
   "cell_type": "markdown",
   "metadata": {},
   "source": [
    "##### Une condition fonctionne grâce à ce qu'on appelle des booléens qui sont 'true' (c'est le cas) 'false' (ce n'est pas le cas)."
   ]
  },
  {
   "cell_type": "markdown",
   "metadata": {},
   "source": [
    "#### La structure imbriquée."
   ]
  },
  {
   "cell_type": "markdown",
   "metadata": {},
   "source": [
    "##### Une structure imbriquée s'applique dans le cas d'une boucle for ou d'une condition if. Elle permet d'avoir des \"mini-instructions\" au sein du code complet."
   ]
  },
  {
   "cell_type": "code",
   "execution_count": 5,
   "metadata": {},
   "outputs": [
    {
     "name": "stdout",
     "output_type": "stream",
     "text": [
      "Accessible\n"
     ]
    }
   ],
   "source": [
    "mot_de_passe = 'Killuavi'\n",
    "marge_d_erreur = 'Killuaavi'\n",
    "\n",
    "acces = mot_de_passe\n",
    "\n",
    "est_accessible = False\n",
    "\n",
    "\n",
    "if acces == mot_de_passe:\n",
    "    est_accessible = True\n",
    "\n",
    "if est_accessible == True:\n",
    "    print('Accessible')"
   ]
  },
  {
   "cell_type": "markdown",
   "metadata": {},
   "source": [
    "##### Dans l'exemple si dessus, j'ai mis un exemple assez technique. "
   ]
  },
  {
   "cell_type": "markdown",
   "metadata": {},
   "source": [
    "##### Déjà, quelquechose d'important que j'ai mis longtemps à capter grâce à un autre langage : si on ne met qu'un seul signe égale, on 'set' (on assigne) une valeur, si ont met deux signes égale, on 'get' (on obtient, on verifie) la valeur."
   ]
  },
  {
   "cell_type": "markdown",
   "metadata": {},
   "source": [
    "##### J'aurais pu (et je recommande de) ne mettre que 'if est_accessible :', Python sait que si un booléen est True, ça ne sert à rien de mettre \"if [la_booleenne] == True :\"."
   ]
  },
  {
   "cell_type": "code",
   "execution_count": 6,
   "metadata": {},
   "outputs": [
    {
     "name": "stdout",
     "output_type": "stream",
     "text": [
      "Accessible\n"
     ]
    }
   ],
   "source": [
    "mot_de_passe = 'Killuavi'\n",
    "marge_d_erreur = 'Killuaavi'\n",
    "\n",
    "acces = mot_de_passe\n",
    "\n",
    "est_accessible = False\n",
    "\n",
    "\n",
    "if acces == mot_de_passe:\n",
    "    est_accessible = True\n",
    "\n",
    "if est_accessible:\n",
    "    print('Accessible')"
   ]
  },
  {
   "cell_type": "markdown",
   "metadata": {},
   "source": [
    "#### if et else, le bloc sinon."
   ]
  },
  {
   "cell_type": "markdown",
   "metadata": {},
   "source": [
    "##### C'est bien de savoir ce qu'on fait si quelque chose est True mais c'est mieux de savoir en plus si ce n'est pas le cas."
   ]
  },
  {
   "cell_type": "code",
   "execution_count": 8,
   "metadata": {},
   "outputs": [
    {
     "name": "stdout",
     "output_type": "stream",
     "text": [
      "La Terre est plate\n"
     ]
    }
   ],
   "source": [
    "la_terre_est_ronde = True\n",
    "\n",
    "if la_terre_est_ronde :\n",
    "    print('La Terre est ronde')\n",
    "else :\n",
    "    print('La Terre est plate')"
   ]
  },
  {
   "cell_type": "markdown",
   "metadata": {},
   "source": [
    "##### Dans l'exemple au dessus, le booléen 'la_terre_est_ronde' est True donc Python va effectuer ce qu'on lui demande de faire si la_terre_est_ronde est True, sinon, grâce à 'else' (ça veut dire sinon en Anglais), Python va effectuer ce qu'on lui demande SI la_terre_est_ronde est False."
   ]
  },
  {
   "cell_type": "markdown",
   "metadata": {},
   "source": [
    "#### L'opérateur d'égalité\n"
   ]
  },
  {
   "cell_type": "markdown",
   "metadata": {},
   "source": [
    "##### Les opérateurs d'égalité en Python ont tous une signification différente. "
   ]
  },
  {
   "cell_type": "markdown",
   "metadata": {},
   "source": [
    "#### =="
   ]
  },
  {
   "cell_type": "code",
   "execution_count": 4,
   "metadata": {},
   "outputs": [
    {
     "name": "stdout",
     "output_type": "stream",
     "text": [
      "Harry Roselmacdonald\n"
     ]
    }
   ],
   "source": [
    "# Variables (on configure une valeur donc on met un seul '=')\n",
    "\n",
    "prenom = 'Harry'\n",
    "nom = 'Roselmacdonald'\n",
    "\n",
    "# Si le nom est égale à 'Roselmacdonald', on va print le nom complet\n",
    "\n",
    "if nom == 'Roselmacdonald':\n",
    "    print(prenom + ' ' + nom)\n"
   ]
  },
  {
   "cell_type": "markdown",
   "metadata": {},
   "source": [
    "##### Comme évoqué tout à l'heure, deux signes égale à côté vérifie l'égalité mais ne la configure pas."
   ]
  },
  {
   "cell_type": "markdown",
   "metadata": {},
   "source": [
    "### !="
   ]
  },
  {
   "cell_type": "code",
   "execution_count": 8,
   "metadata": {},
   "outputs": [
    {
     "name": "stdout",
     "output_type": "stream",
     "text": [
      "Nezuko#0836 a été réspectueus (e)\n"
     ]
    }
   ],
   "source": [
    "# Variables \n",
    "utilisateur = 'Nezuko#0836'\n",
    "message = 'Salut !'\n",
    "\n",
    "if message != 'UwU' :\n",
    "    print(utilisateur + ' a été réspectueus (e)')"
   ]
  },
  {
   "cell_type": "markdown",
   "metadata": {},
   "source": [
    "#### Dans le cas présent, si l'utilisateur n'envoie pas 'UwU', c'est qu'il a été respectueux."
   ]
  },
  {
   "cell_type": "code",
   "execution_count": 14,
   "metadata": {},
   "outputs": [
    {
     "name": "stdout",
     "output_type": "stream",
     "text": [
      "Hello World!\n"
     ]
    }
   ],
   "source": [
    "phrase = 'Hello World'\n",
    "ravi = True\n",
    "if ravi:\n",
    "    phrase += ' !'\n",
    "print(phrase)"
   ]
  },
  {
   "cell_type": "code",
   "execution_count": 15,
   "metadata": {},
   "outputs": [
    {
     "name": "stdout",
     "output_type": "stream",
     "text": [
      "Hello World!\n"
     ]
    }
   ],
   "source": [
    "phrase = 'Hello World'\n",
    "ravi = True\n",
    "confus = False\n",
    "if ravi:\n",
    "    phrase += ' !'\n",
    "if confus:\n",
    "    phrase += ' ?'\n",
    "print(phrase)"
   ]
  },
  {
   "cell_type": "code",
   "execution_count": 16,
   "metadata": {},
   "outputs": [
    {
     "name": "stdout",
     "output_type": "stream",
     "text": [
      "Hello World.\n"
     ]
    }
   ],
   "source": [
    "phrase = 'Hello World'\n",
    "ravi = False\n",
    "if ravi:\n",
    "    caractere = ' !'\n",
    "else:\n",
    "    caractere = '.'\n",
    "phrase += caractere\n",
    "print (phrase)"
   ]
  },
  {
   "cell_type": "code",
   "execution_count": 20,
   "metadata": {},
   "outputs": [
    {
     "name": "stdout",
     "output_type": "stream",
     "text": [
      "H!e!l!l!o! !W!o!r!l!d!\n"
     ]
    }
   ],
   "source": [
    "phrase = 'Hello World'\n",
    "ravi = True\n",
    "\n",
    "nouvelle_phrase = ''\n",
    "for caractere in phrase:\n",
    "    nouvelle_phrase += caractere\n",
    "    if ravi:\n",
    "        nouvelle_phrase += '!'\n",
    "\n",
    "phrase = nouvelle_phrase\n",
    "print(phrase)"
   ]
  },
  {
   "cell_type": "code",
   "execution_count": 19,
   "metadata": {},
   "outputs": [
    {
     "name": "stdout",
     "output_type": "stream",
     "text": [
      "Hello world\n"
     ]
    }
   ],
   "source": [
    "phrase = 'Hello world'\n",
    "majuscule = True\n",
    "nouvelle_phrase = ''\n",
    "for caractere in phrase:\n",
    "    if majuscule:\n",
    "        caractere = caractere.upper()\n",
    "    else:\n",
    "        caractere = caractere.lower()\n",
    "    nouvelle_phrase += caractere\n",
    "    majuscule = False\n",
    "\n",
    "print(nouvelle_phrase)"
   ]
  },
  {
   "cell_type": "code",
   "execution_count": 18,
   "metadata": {},
   "outputs": [
    {
     "name": "stdout",
     "output_type": "stream",
     "text": [
      "Un dErNiEr eXeRcIcE Et vOuS PoUrEz vOuS RePoSeR\n"
     ]
    }
   ],
   "source": [
    "phrase = 'un dernier exercice et vous pourez vous reposer'\n",
    "majuscule = True\n",
    "nouvelle_phrase = ''\n",
    "for caractere in phrase:\n",
    "    if majuscule:\n",
    "        caractere = caractere.upper()\n",
    "        majuscule = False\n",
    "    else:\n",
    "        caractere = caractere.lower()\n",
    "        majuscule = True\n",
    "    nouvelle_phrase += caractere\n",
    "\n",
    "print(nouvelle_phrase)"
   ]
  },
  {
   "cell_type": "code",
   "execution_count": 17,
   "metadata": {},
   "outputs": [
    {
     "name": "stdout",
     "output_type": "stream",
     "text": [
      "M3li$$@\n"
     ]
    }
   ],
   "source": [
    "nom = 'Melissa'\n",
    "nouveau_nom = ''\n",
    "for c in nom:\n",
    "    if c == 's':\n",
    "        c = '$'\n",
    "    if c == 'e':\n",
    "        c = '3'\n",
    "    if c == 'a':\n",
    "        c = '@'\n",
    "    nouveau_nom += c\n",
    "\n",
    "print(nouveau_nom)"
   ]
  },
  {
   "cell_type": "code",
   "execution_count": 21,
   "metadata": {},
   "outputs": [
    {
     "name": "stdout",
     "output_type": "stream",
     "text": [
      "TCATCGCAG\n"
     ]
    }
   ],
   "source": [
    "adn = 'AGTAGCGTC'\n",
    "adn_inverse = ''\n",
    "for caractere in adn:\n",
    "    if caractere == 'A':\n",
    "        caractere = 'T'\n",
    "    else: \n",
    "        if caractere == 'T':\n",
    "         caractere = 'A'\n",
    "    if caractere == 'G':\n",
    "        caractere = 'C'\n",
    "    else:\n",
    "        if caractere == 'C':\n",
    "         caractere = 'G'\n",
    "    adn_inverse += caractere\n",
    "\n",
    "print(adn_inverse)"
   ]
  },
  {
   "cell_type": "code",
   "execution_count": 22,
   "metadata": {},
   "outputs": [
    {
     "name": "stdout",
     "output_type": "stream",
     "text": [
      "B\n"
     ]
    }
   ],
   "source": [
    "pourcentage = 73\n",
    "\n",
    "if pourcentage < 40:\n",
    "    note = 'F'\n",
    "elif pourcentage < 60:\n",
    "    note = 'C'\n",
    "elif pourcentage < 80:\n",
    "    note = 'B'\n",
    "else:\n",
    "    note = 'A'\n",
    "\n",
    "print(note)"
   ]
  }
 ],
 "metadata": {
  "kernelspec": {
   "display_name": "Python 3.10.1 64-bit",
   "language": "python",
   "name": "python3"
  },
  "language_info": {
   "codemirror_mode": {
    "name": "ipython",
    "version": 3
   },
   "file_extension": ".py",
   "mimetype": "text/x-python",
   "name": "python",
   "nbconvert_exporter": "python",
   "pygments_lexer": "ipython3",
   "version": "3.10.1"
  },
  "orig_nbformat": 4,
  "vscode": {
   "interpreter": {
    "hash": "c813da0d88532624e95401f841607d640ef6d724b81c00ab0d0885f617a921c3"
   }
  }
 },
 "nbformat": 4,
 "nbformat_minor": 2
}
